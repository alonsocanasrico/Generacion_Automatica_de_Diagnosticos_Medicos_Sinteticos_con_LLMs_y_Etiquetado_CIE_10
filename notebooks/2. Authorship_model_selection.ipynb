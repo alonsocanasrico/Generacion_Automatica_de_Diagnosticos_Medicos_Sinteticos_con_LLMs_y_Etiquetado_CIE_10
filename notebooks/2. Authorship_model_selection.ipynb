{
 "cells": [
  {
   "cell_type": "markdown",
   "id": "64436d91",
   "metadata": {},
   "source": [
    "## Imports"
   ]
  },
  {
   "cell_type": "code",
   "execution_count": 1,
   "id": "df0888e1",
   "metadata": {},
   "outputs": [
    {
     "name": "stdout",
     "output_type": "stream",
     "text": [
      "CUDA available: True\n",
      "Device count: 1\n",
      "Current device: 0\n",
      "Device name: NVIDIA GeForce RTX 4090\n"
     ]
    }
   ],
   "source": [
    "import torch\n",
    "\n",
    "print(\"CUDA available:\", torch.cuda.is_available())\n",
    "print(\"Device count:\", torch.cuda.device_count())\n",
    "print(\"Current device:\", torch.cuda.current_device())\n",
    "print(\"Device name:\", torch.cuda.get_device_name(torch.cuda.current_device()) if torch.cuda.is_available() else \"No GPU\")\n",
    "device = torch.device(\"cuda\" if torch.cuda.is_available() else \"cpu\")"
   ]
  },
  {
   "cell_type": "code",
   "execution_count": null,
   "id": "558553f9",
   "metadata": {},
   "outputs": [
    {
     "name": "stderr",
     "output_type": "stream",
     "text": [
      "c:\\Users\\Alonso\\Documents\\## UPM\\TFM\\git\\TFM\\venv\\Lib\\site-packages\\tqdm\\auto.py:21: TqdmWarning: IProgress not found. Please update jupyter and ipywidgets. See https://ipywidgets.readthedocs.io/en/stable/user_install.html\n",
      "  from .autonotebook import tqdm as notebook_tqdm\n"
     ]
    }
   ],
   "source": [
    "from transformers import AutoTokenizer\n",
    "import sys\n",
    "import os\n",
    "import pandas as pd\n",
    "\n",
    "sys.path.append(os.path.abspath(\"..\"))\n",
    "\n",
    "from tfm.ai_generated_detection.ai_generated_detection_models import (\n",
    "    Wangkevin02AIDetectorModel,\n",
    "    DesklibAIDetectorModel,\n",
    "    PrasoonmhwrAIDetectorModel,\n",
    "    FakespotAIDetectorModel,\n",
    "    calculate_ai_human_metrics,\n",
    ")"
   ]
  },
  {
   "cell_type": "markdown",
   "id": "9732b6e0",
   "metadata": {},
   "source": [
    "## Leer Datos"
   ]
  },
  {
   "cell_type": "code",
   "execution_count": 3,
   "id": "a2b8352b",
   "metadata": {},
   "outputs": [
    {
     "data": {
      "text/html": [
       "<div>\n",
       "<style scoped>\n",
       "    .dataframe tbody tr th:only-of-type {\n",
       "        vertical-align: middle;\n",
       "    }\n",
       "\n",
       "    .dataframe tbody tr th {\n",
       "        vertical-align: top;\n",
       "    }\n",
       "\n",
       "    .dataframe thead th {\n",
       "        text-align: right;\n",
       "    }\n",
       "</style>\n",
       "<table border=\"1\" class=\"dataframe\">\n",
       "  <thead>\n",
       "    <tr style=\"text-align: right;\">\n",
       "      <th></th>\n",
       "      <th>Descripcion_diagnosticos</th>\n",
       "      <th>Descripcion_diagnosticos_limpio</th>\n",
       "      <th>Codigos_diagnosticos</th>\n",
       "      <th>Diagnosticos_estandar</th>\n",
       "      <th>generated</th>\n",
       "    </tr>\n",
       "  </thead>\n",
       "  <tbody>\n",
       "    <tr>\n",
       "      <th>0</th>\n",
       "      <td>F30.2 - MANÍA CON SÍNTOMAS PSICÓTICOS.</td>\n",
       "      <td>f30.2  mania con sintomas psicoticos.</td>\n",
       "      <td>['F30.9']</td>\n",
       "      <td>['Episodio maníaco, no especificado']</td>\n",
       "      <td>False</td>\n",
       "    </tr>\n",
       "    <tr>\n",
       "      <th>1</th>\n",
       "      <td>\\r\\nDescompensación rasgos patológicos de pers...</td>\n",
       "      <td>descompensacion rasgos patologicos de personal...</td>\n",
       "      <td>['F60.3', 'F79.0']</td>\n",
       "      <td>['Trastorno de inestabilidad emocional de la p...</td>\n",
       "      <td>False</td>\n",
       "    </tr>\n",
       "    <tr>\n",
       "      <th>2</th>\n",
       "      <td>Intento de suicidio</td>\n",
       "      <td>intento de suicidio</td>\n",
       "      <td>['F31.3', 'F32.9', 'T14.91']</td>\n",
       "      <td>['Trastorno bipolar, episodio actual depresivo...</td>\n",
       "      <td>False</td>\n",
       "    </tr>\n",
       "    <tr>\n",
       "      <th>3</th>\n",
       "      <td>ID: trastorno adaptativo</td>\n",
       "      <td>id trastorno adaptativo</td>\n",
       "      <td>['F43.2']</td>\n",
       "      <td>['Trastorno de adaptación']</td>\n",
       "      <td>False</td>\n",
       "    </tr>\n",
       "    <tr>\n",
       "      <th>4</th>\n",
       "      <td>JC: Episodio depresivo con intento autolitico ...</td>\n",
       "      <td>jc episodio depresivo con intento autolitico f...</td>\n",
       "      <td>['F32.9', 'T14.91']</td>\n",
       "      <td>['Episodio depresivo sin especificación', 'Sui...</td>\n",
       "      <td>False</td>\n",
       "    </tr>\n",
       "    <tr>\n",
       "      <th>...</th>\n",
       "      <td>...</td>\n",
       "      <td>...</td>\n",
       "      <td>...</td>\n",
       "      <td>...</td>\n",
       "      <td>...</td>\n",
       "    </tr>\n",
       "    <tr>\n",
       "      <th>79043</th>\n",
       "      <td>-Negativa a la ingesta, agitación y alteracion...</td>\n",
       "      <td>negativa a la ingesta agitacion y alteraciones...</td>\n",
       "      <td>['F4.0', 'F41.1', 'F60.4', 'COGNITIV', 'F13.0']</td>\n",
       "      <td>['Trastorno de ansiedad, disociativo, relacion...</td>\n",
       "      <td>False</td>\n",
       "    </tr>\n",
       "    <tr>\n",
       "      <th>79044</th>\n",
       "      <td>Eje I: \\r\\n-Psicosis no especificada, leve des...</td>\n",
       "      <td>eje i psicosis no especificada leve descompens...</td>\n",
       "      <td>['F32.9', 'F33.9', 'F60.3', 'Z63', 'F12.0', 'F...</td>\n",
       "      <td>['Episodio depresivo sin especificación', 'Tra...</td>\n",
       "      <td>False</td>\n",
       "    </tr>\n",
       "    <tr>\n",
       "      <th>79045</th>\n",
       "      <td>T ansiedad con insomnio plurifactorial.</td>\n",
       "      <td>t ansiedad con insomnio plurifactorial.</td>\n",
       "      <td>['F4.0', 'F51.0']</td>\n",
       "      <td>['Trastorno de ansiedad, disociativo, relacion...</td>\n",
       "      <td>False</td>\n",
       "    </tr>\n",
       "    <tr>\n",
       "      <th>79046</th>\n",
       "      <td>- T. de ansiedad con insomnio comórbido, en re...</td>\n",
       "      <td>t. de ansiedad con insomnio comorbido en remis...</td>\n",
       "      <td>['F4.0', 'F51.0']</td>\n",
       "      <td>['Trastorno de ansiedad, disociativo, relacion...</td>\n",
       "      <td>False</td>\n",
       "    </tr>\n",
       "    <tr>\n",
       "      <th>79047</th>\n",
       "      <td>Reaccion vivencial. Insomnio de conciliacion.</td>\n",
       "      <td>reaccion vivencial. insomnio de conciliacion.</td>\n",
       "      <td>['F43.2', 'F51.0']</td>\n",
       "      <td>['Trastorno de adaptación', 'Insomnio no orgán...</td>\n",
       "      <td>False</td>\n",
       "    </tr>\n",
       "  </tbody>\n",
       "</table>\n",
       "<p>79048 rows × 5 columns</p>\n",
       "</div>"
      ],
      "text/plain": [
       "                                Descripcion_diagnosticos  \\\n",
       "0                 F30.2 - MANÍA CON SÍNTOMAS PSICÓTICOS.   \n",
       "1      \\r\\nDescompensación rasgos patológicos de pers...   \n",
       "2                                    Intento de suicidio   \n",
       "3                               ID: trastorno adaptativo   \n",
       "4      JC: Episodio depresivo con intento autolitico ...   \n",
       "...                                                  ...   \n",
       "79043  -Negativa a la ingesta, agitación y alteracion...   \n",
       "79044  Eje I: \\r\\n-Psicosis no especificada, leve des...   \n",
       "79045            T ansiedad con insomnio plurifactorial.   \n",
       "79046  - T. de ansiedad con insomnio comórbido, en re...   \n",
       "79047      Reaccion vivencial. Insomnio de conciliacion.   \n",
       "\n",
       "                         Descripcion_diagnosticos_limpio  \\\n",
       "0                  f30.2  mania con sintomas psicoticos.   \n",
       "1      descompensacion rasgos patologicos de personal...   \n",
       "2                                    intento de suicidio   \n",
       "3                                id trastorno adaptativo   \n",
       "4      jc episodio depresivo con intento autolitico f...   \n",
       "...                                                  ...   \n",
       "79043  negativa a la ingesta agitacion y alteraciones...   \n",
       "79044  eje i psicosis no especificada leve descompens...   \n",
       "79045            t ansiedad con insomnio plurifactorial.   \n",
       "79046  t. de ansiedad con insomnio comorbido en remis...   \n",
       "79047      reaccion vivencial. insomnio de conciliacion.   \n",
       "\n",
       "                                    Codigos_diagnosticos  \\\n",
       "0                                              ['F30.9']   \n",
       "1                                     ['F60.3', 'F79.0']   \n",
       "2                           ['F31.3', 'F32.9', 'T14.91']   \n",
       "3                                              ['F43.2']   \n",
       "4                                    ['F32.9', 'T14.91']   \n",
       "...                                                  ...   \n",
       "79043    ['F4.0', 'F41.1', 'F60.4', 'COGNITIV', 'F13.0']   \n",
       "79044  ['F32.9', 'F33.9', 'F60.3', 'Z63', 'F12.0', 'F...   \n",
       "79045                                  ['F4.0', 'F51.0']   \n",
       "79046                                  ['F4.0', 'F51.0']   \n",
       "79047                                 ['F43.2', 'F51.0']   \n",
       "\n",
       "                                   Diagnosticos_estandar  generated  \n",
       "0                  ['Episodio maníaco, no especificado']      False  \n",
       "1      ['Trastorno de inestabilidad emocional de la p...      False  \n",
       "2      ['Trastorno bipolar, episodio actual depresivo...      False  \n",
       "3                            ['Trastorno de adaptación']      False  \n",
       "4      ['Episodio depresivo sin especificación', 'Sui...      False  \n",
       "...                                                  ...        ...  \n",
       "79043  ['Trastorno de ansiedad, disociativo, relacion...      False  \n",
       "79044  ['Episodio depresivo sin especificación', 'Tra...      False  \n",
       "79045  ['Trastorno de ansiedad, disociativo, relacion...      False  \n",
       "79046  ['Trastorno de ansiedad, disociativo, relacion...      False  \n",
       "79047  ['Trastorno de adaptación', 'Insomnio no orgán...      False  \n",
       "\n",
       "[79048 rows x 5 columns]"
      ]
     },
     "execution_count": 3,
     "metadata": {},
     "output_type": "execute_result"
    }
   ],
   "source": [
    "data = pd.read_csv(\"../data/diagnoses_df/ground_truth_df.csv\")\n",
    "data['generated'] = False\n",
    "data"
   ]
  },
  {
   "cell_type": "markdown",
   "id": "1c066e88",
   "metadata": {},
   "source": [
    "## Pruebas de modelos"
   ]
  },
  {
   "cell_type": "markdown",
   "id": "d92b2867",
   "metadata": {},
   "source": [
    "La idea es probar el rendimiento de diferentes modelos de clasificación de textos en base a si son escritos por humanos o generados con inteligencia artificial.\n",
    "\n",
    "Un modelo será usado para clasificar los textos generados, de manera que intertesará que clasifique los textos generados erróneamente, lo cual será un indicativo de que son de buena claidad (o de queson similares a los humanos). \n",
    "\n",
    "Para elegir un modelo para esta tarea, se probará el rendimiento de diferentes modelos evaluándolos sobre el conjunto de datos original, en el que todos los diagnósticos son humanos. Aquel modelo que consiga un mejor accuracy en este conjunto, será el seleccionado para la tarea de evaluación posterior, pues será el modelo que a priori será mejor capaz de detectar los textos humanos."
   ]
  },
  {
   "cell_type": "markdown",
   "id": "1bad8225",
   "metadata": {},
   "source": [
    "### wangkevin02/AI_Detect_Model"
   ]
  },
  {
   "cell_type": "code",
   "execution_count": null,
   "id": "24f6a466",
   "metadata": {},
   "outputs": [],
   "source": [
    "classifier = Wangkevin02AIDetectorModel(model_name=\"wangkevin02/AI_Detect_Model\")"
   ]
  },
  {
   "cell_type": "code",
   "execution_count": null,
   "id": "b417a3b0",
   "metadata": {},
   "outputs": [
    {
     "name": "stderr",
     "output_type": "stream",
     "text": [
      "Processing batches: 100%|██████████| 1236/1236 [46:02<00:00,  2.23s/it] \n"
     ]
    }
   ],
   "source": [
    "result = classifier.get_probability(data['Descripcion_diagnosticos'].to_list(), batch_size=64)\n",
    "predicted_indices = torch.argmax(result, dim=1)\n",
    "predicted_indices"
   ]
  },
  {
   "cell_type": "code",
   "execution_count": null,
   "id": "9e3a0519",
   "metadata": {},
   "outputs": [
    {
     "name": "stdout",
     "output_type": "stream",
     "text": [
      "Accuracy: 0.7073\n",
      "Precision: 0.0000\n",
      "Recall: 0.0000\n",
      "F1 Score: 0.0000\n",
      "\n",
      "Classification Report:\n",
      "               precision    recall  f1-score   support\n",
      "\n",
      "           0       1.00      0.71      0.83     79048\n",
      "           1       0.00      0.00      0.00         0\n",
      "\n",
      "    accuracy                           0.71     79048\n",
      "   macro avg       0.50      0.35      0.41     79048\n",
      "weighted avg       1.00      0.71      0.83     79048\n",
      "\n"
     ]
    },
    {
     "name": "stderr",
     "output_type": "stream",
     "text": [
      "c:\\Users\\Alonso\\Documents\\## UPM\\TFM\\git\\TFM\\venv\\Lib\\site-packages\\sklearn\\metrics\\_classification.py:1706: UndefinedMetricWarning: Recall is ill-defined and being set to 0.0 due to no true samples. Use `zero_division` parameter to control this behavior.\n",
      "  _warn_prf(average, modifier, f\"{metric.capitalize()} is\", result.shape[0])\n",
      "c:\\Users\\Alonso\\Documents\\## UPM\\TFM\\git\\TFM\\venv\\Lib\\site-packages\\sklearn\\metrics\\_classification.py:1706: UndefinedMetricWarning: Recall is ill-defined and being set to 0.0 in labels with no true samples. Use `zero_division` parameter to control this behavior.\n",
      "  _warn_prf(average, modifier, f\"{metric.capitalize()} is\", result.shape[0])\n",
      "c:\\Users\\Alonso\\Documents\\## UPM\\TFM\\git\\TFM\\venv\\Lib\\site-packages\\sklearn\\metrics\\_classification.py:1706: UndefinedMetricWarning: Recall is ill-defined and being set to 0.0 in labels with no true samples. Use `zero_division` parameter to control this behavior.\n",
      "  _warn_prf(average, modifier, f\"{metric.capitalize()} is\", result.shape[0])\n",
      "c:\\Users\\Alonso\\Documents\\## UPM\\TFM\\git\\TFM\\venv\\Lib\\site-packages\\sklearn\\metrics\\_classification.py:1706: UndefinedMetricWarning: Recall is ill-defined and being set to 0.0 in labels with no true samples. Use `zero_division` parameter to control this behavior.\n",
      "  _warn_prf(average, modifier, f\"{metric.capitalize()} is\", result.shape[0])\n"
     ]
    }
   ],
   "source": [
    "calculate_ai_human_metrics(predicted_indices, data)"
   ]
  },
  {
   "cell_type": "markdown",
   "id": "d57b2ba6",
   "metadata": {},
   "source": [
    "### desklib/ai-text-detector-v1.01"
   ]
  },
  {
   "cell_type": "code",
   "execution_count": null,
   "id": "a282c003",
   "metadata": {},
   "outputs": [],
   "source": [
    "model_dir = \"desklib/ai-text-detector-v1.01\"\n",
    "tokenizer = AutoTokenizer.from_pretrained(model_dir)\n",
    "model = DesklibAIDetectorModel.from_pretrained(model_dir)"
   ]
  },
  {
   "cell_type": "code",
   "execution_count": null,
   "id": "1491827a",
   "metadata": {},
   "outputs": [
    {
     "name": "stderr",
     "output_type": "stream",
     "text": [
      "Batches: 100%|██████████| 4941/4941 [20:30<00:00,  4.01it/s]  \n"
     ]
    }
   ],
   "source": [
    "probs, labels = model.predict(\n",
    "    data['Descripcion_diagnosticos'].to_list(),\n",
    "    tokenizer=tokenizer,\n",
    "    device=device,\n",
    "    batch_size=16,\n",
    "    max_len=768,\n",
    "    threshold=0.5\n",
    ")"
   ]
  },
  {
   "cell_type": "code",
   "execution_count": null,
   "id": "6a69a726",
   "metadata": {},
   "outputs": [
    {
     "name": "stdout",
     "output_type": "stream",
     "text": [
      "Accuracy: 0.2992\n",
      "Precision: 0.0000\n",
      "Recall: 0.0000\n",
      "F1 Score: 0.0000\n",
      "\n",
      "Classification Report:\n",
      "               precision    recall  f1-score   support\n",
      "\n",
      "           0       1.00      0.30      0.46     79048\n",
      "           1       0.00      0.00      0.00         0\n",
      "\n",
      "    accuracy                           0.30     79048\n",
      "   macro avg       0.50      0.15      0.23     79048\n",
      "weighted avg       1.00      0.30      0.46     79048\n",
      "\n"
     ]
    },
    {
     "name": "stderr",
     "output_type": "stream",
     "text": [
      "c:\\Users\\Alonso\\Documents\\## UPM\\TFM\\git\\TFM\\venv\\Lib\\site-packages\\sklearn\\metrics\\_classification.py:1706: UndefinedMetricWarning: Recall is ill-defined and being set to 0.0 due to no true samples. Use `zero_division` parameter to control this behavior.\n",
      "  _warn_prf(average, modifier, f\"{metric.capitalize()} is\", result.shape[0])\n",
      "c:\\Users\\Alonso\\Documents\\## UPM\\TFM\\git\\TFM\\venv\\Lib\\site-packages\\sklearn\\metrics\\_classification.py:1706: UndefinedMetricWarning: Recall is ill-defined and being set to 0.0 in labels with no true samples. Use `zero_division` parameter to control this behavior.\n",
      "  _warn_prf(average, modifier, f\"{metric.capitalize()} is\", result.shape[0])\n",
      "c:\\Users\\Alonso\\Documents\\## UPM\\TFM\\git\\TFM\\venv\\Lib\\site-packages\\sklearn\\metrics\\_classification.py:1706: UndefinedMetricWarning: Recall is ill-defined and being set to 0.0 in labels with no true samples. Use `zero_division` parameter to control this behavior.\n",
      "  _warn_prf(average, modifier, f\"{metric.capitalize()} is\", result.shape[0])\n",
      "c:\\Users\\Alonso\\Documents\\## UPM\\TFM\\git\\TFM\\venv\\Lib\\site-packages\\sklearn\\metrics\\_classification.py:1706: UndefinedMetricWarning: Recall is ill-defined and being set to 0.0 in labels with no true samples. Use `zero_division` parameter to control this behavior.\n",
      "  _warn_prf(average, modifier, f\"{metric.capitalize()} is\", result.shape[0])\n"
     ]
    }
   ],
   "source": [
    "calculate_ai_human_metrics(torch.tensor(labels), data)"
   ]
  },
  {
   "cell_type": "markdown",
   "id": "299f5abf",
   "metadata": {},
   "source": [
    "### prasoonmhwr/ai_detection_model"
   ]
  },
  {
   "cell_type": "code",
   "execution_count": 4,
   "id": "7f5ab622",
   "metadata": {},
   "outputs": [
    {
     "name": "stderr",
     "output_type": "stream",
     "text": [
      "Some weights of RobertaForSequenceClassification were not initialized from the model checkpoint at prasoonmhwr/ai_detection_model and are newly initialized: ['classifier.dense.bias', 'classifier.dense.weight', 'classifier.out_proj.bias', 'classifier.out_proj.weight', 'roberta.embeddings.LayerNorm.bias', 'roberta.embeddings.LayerNorm.weight', 'roberta.embeddings.position_embeddings.weight', 'roberta.embeddings.token_type_embeddings.weight', 'roberta.embeddings.word_embeddings.weight', 'roberta.encoder.layer.0.attention.output.LayerNorm.bias', 'roberta.encoder.layer.0.attention.output.LayerNorm.weight', 'roberta.encoder.layer.0.attention.output.dense.bias', 'roberta.encoder.layer.0.attention.output.dense.weight', 'roberta.encoder.layer.0.attention.self.key.bias', 'roberta.encoder.layer.0.attention.self.key.weight', 'roberta.encoder.layer.0.attention.self.query.bias', 'roberta.encoder.layer.0.attention.self.query.weight', 'roberta.encoder.layer.0.attention.self.value.bias', 'roberta.encoder.layer.0.attention.self.value.weight', 'roberta.encoder.layer.0.intermediate.dense.bias', 'roberta.encoder.layer.0.intermediate.dense.weight', 'roberta.encoder.layer.0.output.LayerNorm.bias', 'roberta.encoder.layer.0.output.LayerNorm.weight', 'roberta.encoder.layer.0.output.dense.bias', 'roberta.encoder.layer.0.output.dense.weight', 'roberta.encoder.layer.1.attention.output.LayerNorm.bias', 'roberta.encoder.layer.1.attention.output.LayerNorm.weight', 'roberta.encoder.layer.1.attention.output.dense.bias', 'roberta.encoder.layer.1.attention.output.dense.weight', 'roberta.encoder.layer.1.attention.self.key.bias', 'roberta.encoder.layer.1.attention.self.key.weight', 'roberta.encoder.layer.1.attention.self.query.bias', 'roberta.encoder.layer.1.attention.self.query.weight', 'roberta.encoder.layer.1.attention.self.value.bias', 'roberta.encoder.layer.1.attention.self.value.weight', 'roberta.encoder.layer.1.intermediate.dense.bias', 'roberta.encoder.layer.1.intermediate.dense.weight', 'roberta.encoder.layer.1.output.LayerNorm.bias', 'roberta.encoder.layer.1.output.LayerNorm.weight', 'roberta.encoder.layer.1.output.dense.bias', 'roberta.encoder.layer.1.output.dense.weight', 'roberta.encoder.layer.10.attention.output.LayerNorm.bias', 'roberta.encoder.layer.10.attention.output.LayerNorm.weight', 'roberta.encoder.layer.10.attention.output.dense.bias', 'roberta.encoder.layer.10.attention.output.dense.weight', 'roberta.encoder.layer.10.attention.self.key.bias', 'roberta.encoder.layer.10.attention.self.key.weight', 'roberta.encoder.layer.10.attention.self.query.bias', 'roberta.encoder.layer.10.attention.self.query.weight', 'roberta.encoder.layer.10.attention.self.value.bias', 'roberta.encoder.layer.10.attention.self.value.weight', 'roberta.encoder.layer.10.intermediate.dense.bias', 'roberta.encoder.layer.10.intermediate.dense.weight', 'roberta.encoder.layer.10.output.LayerNorm.bias', 'roberta.encoder.layer.10.output.LayerNorm.weight', 'roberta.encoder.layer.10.output.dense.bias', 'roberta.encoder.layer.10.output.dense.weight', 'roberta.encoder.layer.11.attention.output.LayerNorm.bias', 'roberta.encoder.layer.11.attention.output.LayerNorm.weight', 'roberta.encoder.layer.11.attention.output.dense.bias', 'roberta.encoder.layer.11.attention.output.dense.weight', 'roberta.encoder.layer.11.attention.self.key.bias', 'roberta.encoder.layer.11.attention.self.key.weight', 'roberta.encoder.layer.11.attention.self.query.bias', 'roberta.encoder.layer.11.attention.self.query.weight', 'roberta.encoder.layer.11.attention.self.value.bias', 'roberta.encoder.layer.11.attention.self.value.weight', 'roberta.encoder.layer.11.intermediate.dense.bias', 'roberta.encoder.layer.11.intermediate.dense.weight', 'roberta.encoder.layer.11.output.LayerNorm.bias', 'roberta.encoder.layer.11.output.LayerNorm.weight', 'roberta.encoder.layer.11.output.dense.bias', 'roberta.encoder.layer.11.output.dense.weight', 'roberta.encoder.layer.2.attention.output.LayerNorm.bias', 'roberta.encoder.layer.2.attention.output.LayerNorm.weight', 'roberta.encoder.layer.2.attention.output.dense.bias', 'roberta.encoder.layer.2.attention.output.dense.weight', 'roberta.encoder.layer.2.attention.self.key.bias', 'roberta.encoder.layer.2.attention.self.key.weight', 'roberta.encoder.layer.2.attention.self.query.bias', 'roberta.encoder.layer.2.attention.self.query.weight', 'roberta.encoder.layer.2.attention.self.value.bias', 'roberta.encoder.layer.2.attention.self.value.weight', 'roberta.encoder.layer.2.intermediate.dense.bias', 'roberta.encoder.layer.2.intermediate.dense.weight', 'roberta.encoder.layer.2.output.LayerNorm.bias', 'roberta.encoder.layer.2.output.LayerNorm.weight', 'roberta.encoder.layer.2.output.dense.bias', 'roberta.encoder.layer.2.output.dense.weight', 'roberta.encoder.layer.3.attention.output.LayerNorm.bias', 'roberta.encoder.layer.3.attention.output.LayerNorm.weight', 'roberta.encoder.layer.3.attention.output.dense.bias', 'roberta.encoder.layer.3.attention.output.dense.weight', 'roberta.encoder.layer.3.attention.self.key.bias', 'roberta.encoder.layer.3.attention.self.key.weight', 'roberta.encoder.layer.3.attention.self.query.bias', 'roberta.encoder.layer.3.attention.self.query.weight', 'roberta.encoder.layer.3.attention.self.value.bias', 'roberta.encoder.layer.3.attention.self.value.weight', 'roberta.encoder.layer.3.intermediate.dense.bias', 'roberta.encoder.layer.3.intermediate.dense.weight', 'roberta.encoder.layer.3.output.LayerNorm.bias', 'roberta.encoder.layer.3.output.LayerNorm.weight', 'roberta.encoder.layer.3.output.dense.bias', 'roberta.encoder.layer.3.output.dense.weight', 'roberta.encoder.layer.4.attention.output.LayerNorm.bias', 'roberta.encoder.layer.4.attention.output.LayerNorm.weight', 'roberta.encoder.layer.4.attention.output.dense.bias', 'roberta.encoder.layer.4.attention.output.dense.weight', 'roberta.encoder.layer.4.attention.self.key.bias', 'roberta.encoder.layer.4.attention.self.key.weight', 'roberta.encoder.layer.4.attention.self.query.bias', 'roberta.encoder.layer.4.attention.self.query.weight', 'roberta.encoder.layer.4.attention.self.value.bias', 'roberta.encoder.layer.4.attention.self.value.weight', 'roberta.encoder.layer.4.intermediate.dense.bias', 'roberta.encoder.layer.4.intermediate.dense.weight', 'roberta.encoder.layer.4.output.LayerNorm.bias', 'roberta.encoder.layer.4.output.LayerNorm.weight', 'roberta.encoder.layer.4.output.dense.bias', 'roberta.encoder.layer.4.output.dense.weight', 'roberta.encoder.layer.5.attention.output.LayerNorm.bias', 'roberta.encoder.layer.5.attention.output.LayerNorm.weight', 'roberta.encoder.layer.5.attention.output.dense.bias', 'roberta.encoder.layer.5.attention.output.dense.weight', 'roberta.encoder.layer.5.attention.self.key.bias', 'roberta.encoder.layer.5.attention.self.key.weight', 'roberta.encoder.layer.5.attention.self.query.bias', 'roberta.encoder.layer.5.attention.self.query.weight', 'roberta.encoder.layer.5.attention.self.value.bias', 'roberta.encoder.layer.5.attention.self.value.weight', 'roberta.encoder.layer.5.intermediate.dense.bias', 'roberta.encoder.layer.5.intermediate.dense.weight', 'roberta.encoder.layer.5.output.LayerNorm.bias', 'roberta.encoder.layer.5.output.LayerNorm.weight', 'roberta.encoder.layer.5.output.dense.bias', 'roberta.encoder.layer.5.output.dense.weight', 'roberta.encoder.layer.6.attention.output.LayerNorm.bias', 'roberta.encoder.layer.6.attention.output.LayerNorm.weight', 'roberta.encoder.layer.6.attention.output.dense.bias', 'roberta.encoder.layer.6.attention.output.dense.weight', 'roberta.encoder.layer.6.attention.self.key.bias', 'roberta.encoder.layer.6.attention.self.key.weight', 'roberta.encoder.layer.6.attention.self.query.bias', 'roberta.encoder.layer.6.attention.self.query.weight', 'roberta.encoder.layer.6.attention.self.value.bias', 'roberta.encoder.layer.6.attention.self.value.weight', 'roberta.encoder.layer.6.intermediate.dense.bias', 'roberta.encoder.layer.6.intermediate.dense.weight', 'roberta.encoder.layer.6.output.LayerNorm.bias', 'roberta.encoder.layer.6.output.LayerNorm.weight', 'roberta.encoder.layer.6.output.dense.bias', 'roberta.encoder.layer.6.output.dense.weight', 'roberta.encoder.layer.7.attention.output.LayerNorm.bias', 'roberta.encoder.layer.7.attention.output.LayerNorm.weight', 'roberta.encoder.layer.7.attention.output.dense.bias', 'roberta.encoder.layer.7.attention.output.dense.weight', 'roberta.encoder.layer.7.attention.self.key.bias', 'roberta.encoder.layer.7.attention.self.key.weight', 'roberta.encoder.layer.7.attention.self.query.bias', 'roberta.encoder.layer.7.attention.self.query.weight', 'roberta.encoder.layer.7.attention.self.value.bias', 'roberta.encoder.layer.7.attention.self.value.weight', 'roberta.encoder.layer.7.intermediate.dense.bias', 'roberta.encoder.layer.7.intermediate.dense.weight', 'roberta.encoder.layer.7.output.LayerNorm.bias', 'roberta.encoder.layer.7.output.LayerNorm.weight', 'roberta.encoder.layer.7.output.dense.bias', 'roberta.encoder.layer.7.output.dense.weight', 'roberta.encoder.layer.8.attention.output.LayerNorm.bias', 'roberta.encoder.layer.8.attention.output.LayerNorm.weight', 'roberta.encoder.layer.8.attention.output.dense.bias', 'roberta.encoder.layer.8.attention.output.dense.weight', 'roberta.encoder.layer.8.attention.self.key.bias', 'roberta.encoder.layer.8.attention.self.key.weight', 'roberta.encoder.layer.8.attention.self.query.bias', 'roberta.encoder.layer.8.attention.self.query.weight', 'roberta.encoder.layer.8.attention.self.value.bias', 'roberta.encoder.layer.8.attention.self.value.weight', 'roberta.encoder.layer.8.intermediate.dense.bias', 'roberta.encoder.layer.8.intermediate.dense.weight', 'roberta.encoder.layer.8.output.LayerNorm.bias', 'roberta.encoder.layer.8.output.LayerNorm.weight', 'roberta.encoder.layer.8.output.dense.bias', 'roberta.encoder.layer.8.output.dense.weight', 'roberta.encoder.layer.9.attention.output.LayerNorm.bias', 'roberta.encoder.layer.9.attention.output.LayerNorm.weight', 'roberta.encoder.layer.9.attention.output.dense.bias', 'roberta.encoder.layer.9.attention.output.dense.weight', 'roberta.encoder.layer.9.attention.self.key.bias', 'roberta.encoder.layer.9.attention.self.key.weight', 'roberta.encoder.layer.9.attention.self.query.bias', 'roberta.encoder.layer.9.attention.self.query.weight', 'roberta.encoder.layer.9.attention.self.value.bias', 'roberta.encoder.layer.9.attention.self.value.weight', 'roberta.encoder.layer.9.intermediate.dense.bias', 'roberta.encoder.layer.9.intermediate.dense.weight', 'roberta.encoder.layer.9.output.LayerNorm.bias', 'roberta.encoder.layer.9.output.LayerNorm.weight', 'roberta.encoder.layer.9.output.dense.bias', 'roberta.encoder.layer.9.output.dense.weight']\n",
      "You should probably TRAIN this model on a down-stream task to be able to use it for predictions and inference.\n"
     ]
    }
   ],
   "source": [
    "detector = PrasoonmhwrAIDetectorModel(\"prasoonmhwr/ai_detection_model\")"
   ]
  },
  {
   "cell_type": "code",
   "execution_count": 5,
   "id": "15e9d243",
   "metadata": {},
   "outputs": [
    {
     "name": "stderr",
     "output_type": "stream",
     "text": [
      "Predicting: 100%|██████████| 4941/4941 [01:14<00:00, 65.98it/s]\n"
     ]
    }
   ],
   "source": [
    "probs, labels = detector.predict(data['Descripcion_diagnosticos'].to_list(), batch_size=16)"
   ]
  },
  {
   "cell_type": "code",
   "execution_count": 6,
   "id": "ccd128a7",
   "metadata": {},
   "outputs": [
    {
     "name": "stdout",
     "output_type": "stream",
     "text": [
      "Accuracy: 0.9888\n"
     ]
    }
   ],
   "source": [
    "calculate_ai_human_metrics(torch.tensor(labels), data)"
   ]
  },
  {
   "cell_type": "markdown",
   "id": "83066e8a",
   "metadata": {},
   "source": [
    "### fakespot-ai/roberta-base-ai-text-detection-v1"
   ]
  },
  {
   "cell_type": "code",
   "execution_count": 4,
   "id": "7e1156f8",
   "metadata": {},
   "outputs": [
    {
     "name": "stderr",
     "output_type": "stream",
     "text": [
      "Device set to use cuda:0\n"
     ]
    }
   ],
   "source": [
    "classifier = FakespotAIDetectorModel()"
   ]
  },
  {
   "cell_type": "code",
   "execution_count": null,
   "id": "7d553f16",
   "metadata": {},
   "outputs": [
    {
     "name": "stderr",
     "output_type": "stream",
     "text": [
      "Clasificando:   0%|          | 10/2471 [00:02<07:22,  5.56it/s]You seem to be using the pipelines sequentially on GPU. In order to maximize efficiency please use a dataset\n",
      "Clasificando: 100%|██████████| 2471/2471 [06:47<00:00,  6.07it/s]\n"
     ]
    }
   ],
   "source": [
    "preds = classifier.predict(data)"
   ]
  },
  {
   "cell_type": "code",
   "execution_count": 7,
   "id": "2a2662f3",
   "metadata": {},
   "outputs": [
    {
     "name": "stdout",
     "output_type": "stream",
     "text": [
      "Accuracy: 0.7307\n"
     ]
    }
   ],
   "source": [
    "calculate_ai_human_metrics(torch.tensor(preds), data)"
   ]
  }
 ],
 "metadata": {
  "kernelspec": {
   "display_name": "venv",
   "language": "python",
   "name": "python3"
  },
  "language_info": {
   "codemirror_mode": {
    "name": "ipython",
    "version": 3
   },
   "file_extension": ".py",
   "mimetype": "text/x-python",
   "name": "python",
   "nbconvert_exporter": "python",
   "pygments_lexer": "ipython3",
   "version": "3.11.9"
  }
 },
 "nbformat": 4,
 "nbformat_minor": 5
}
